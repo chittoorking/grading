{
 "cells": [
  {
   "cell_type": "markdown",
   "id": "d72f8ceb",
   "metadata": {
    "id": "d72f8ceb"
   },
   "source": [
    "# Assessment - 5 Gradable\n",
    "\n",
    "- Each question carries 5 or 4 marks\n",
    "- Marks will be assigned in terms of:\n",
    "    \n",
    "    **1. Expected output**\n",
    "    \n",
    "    **2. Quality and Explainability of code**\n",
    "\n",
    "    ***Go back through the script and type a comment above each line explaining in English what it does.***\n",
    "\n",
    "    **3. Copied code, if found, will result in 0 marks for that question. To avoid this make as much comments in the code to explain the approach**"
   ]
  },
  {
   "cell_type": "markdown",
   "id": "e5819cc0",
   "metadata": {
    "id": "e5819cc0"
   },
   "source": [
    "### 1. \n",
    "\n",
    "Create a function ``lets_find_88`` Given a list of ints, return True if the array contains a 8 next to a 8 somewhere.\n",
    "- lets_find_88([1, 8, 8]) → True\n",
    "- lets_find_88([1, 8, 1, 8]) → False\n",
    "- lets_find_88([8, 1, 8]) → False"
   ]
  },
  {
   "cell_type": "code",
   "execution_count": 5,
   "id": "88e3b5b4",
   "metadata": {
    "id": "88e3b5b4"
   },
   "outputs": [
    {
     "name": "stdout",
     "output_type": "stream",
     "text": [
      "Result of lets_find_88([1, 8, 8]) is True\n",
      "Result of lets_find_88([1, 8, 1, 8]) is False\n",
      "Result of lets_find_88([8, 1, 8]) is False\n"
     ]
    }
   ],
   "source": [
    "# Defining fucntion \n",
    "def lets_find_88(nums):\n",
    "    # Iterate through each item of list\n",
    "    for i in range(len(nums) - 1):\n",
    "        #checking condition array contains a 8 next to a 8 \n",
    "        if nums[i] == 8 and nums[i + 1] == 8:\n",
    "            return True\n",
    "    return False\n",
    "# Displaying Result\n",
    "print(f\"Result of lets_find_88([1, 8, 8]) is {lets_find_88([1, 8, 8])}\")\n",
    "print(f\"Result of lets_find_88([1, 8, 1, 8]) is {lets_find_88([1, 8, 1, 8])}\")\n",
    "print(f\"Result of lets_find_88([8, 1, 8]) is {lets_find_88([8, 1, 8])}\")\n"
   ]
  },
  {
   "cell_type": "markdown",
   "id": "6b3f11fd",
   "metadata": {
    "id": "6b3f11fd"
   },
   "source": [
    "### 2. \n",
    "\n",
    "ANIMAL CRACKERS: Write a function takes a two-word string and returns True if both words begin with same letter and returns False if both words begin with different letter\n",
    "- animal_crackers('Levelheaded Lion') --> True\n",
    "- animal_crackers('Cute Kangaroo') --> False"
   ]
  },
  {
   "cell_type": "code",
   "execution_count": 9,
   "id": "15e45ae3",
   "metadata": {
    "id": "15e45ae3"
   },
   "outputs": [
    {
     "name": "stdout",
     "output_type": "stream",
     "text": [
      " Result Of animal_crackers('Levelheaded Lion') is True\n",
      " Result Of animal_crackers('Cute Kangaroo') is False\n"
     ]
    }
   ],
   "source": [
    "# Defining fucntion \n",
    "def animal_crackers(words):\n",
    "    # Split the string into words\n",
    "    word_list = words.split()\n",
    "\n",
    "    # Check if the first letters of both words are the same\n",
    "    return word_list[0][0].lower() == word_list[1][0].lower()\n",
    "# Displaying Result\n",
    "print(f\" Result Of animal_crackers('Levelheaded Lion') is {animal_crackers('Levelheaded Lion')}\")   \n",
    "print(f\" Result Of animal_crackers('Cute Kangaroo') is {animal_crackers('Cute Kangaroo')}\")      \n"
   ]
  },
  {
   "cell_type": "markdown",
   "id": "42453e7d",
   "metadata": {
    "id": "42453e7d"
   },
   "source": [
    "### 3. \n",
    "\n",
    "Write a function ``how_many_primes`` that returns the number of prime numbers that exist up to and including a given number\n",
    "\n",
    "- how_many_primes(100) --> 25"
   ]
  },
  {
   "cell_type": "code",
   "execution_count": 14,
   "id": "b3302ec4",
   "metadata": {
    "id": "b3302ec4"
   },
   "outputs": [
    {
     "name": "stdout",
     "output_type": "stream",
     "text": [
      "Enter a Number :100\n",
      "25 prime number exists in upto 100.\n"
     ]
    }
   ],
   "source": [
    "# creating funciton to count he number of prime numbers that exist up to and including a given number\n",
    "def how_many_primes(n):\n",
    "    \"\"\"\n",
    "    Counts the number of prime numbers up to and including a given number.\n",
    "\n",
    "    Parameters:\n",
    "    n (int): The maximum number to consider.\n",
    "\n",
    "    Returns:\n",
    "    int: The number of prime numbers up to and including 'n'.\n",
    "    \"\"\"\n",
    "\n",
    "    count = 0  # Initialize a counter for prime numbers\n",
    "    \n",
    "    for num in range(2, n + 1):\n",
    "        # Check if the number is prime\n",
    "        if is_prime(num):\n",
    "            count += 1\n",
    "    \n",
    "    return count\n",
    "\n",
    "# creating funcation to check given number are prime or not\n",
    "def is_prime(num):\n",
    "    \"\"\"\n",
    "    Checks if a given number is prime.\n",
    "\n",
    "    Parameters:\n",
    "    num (int): The number to check for primality.\n",
    "\n",
    "    Returns:\n",
    "    bool: True if 'num' is prime, False otherwise.\n",
    "    \"\"\"\n",
    "\n",
    "    if num < 2:\n",
    "        return False\n",
    "    \n",
    "    # Iterate from 2 to the square root of 'num' (inclusive)\n",
    "    for i in range(2, int(num**0.5) + 1):\n",
    "        if num % i == 0:\n",
    "            # 'num' is divisible by 'i', hence not prime\n",
    "            return False\n",
    "    \n",
    "    # 'num' is not divisible by any number from 2 to sqrt(num), so it is prime\n",
    "    return True\n",
    "\n",
    "# Finding how many prime numer \n",
    "num=int(input(\"Enter a Number :\"))\n",
    "print(f\"{how_many_primes(num)} prime number exists in upto {num}.\")"
   ]
  },
  {
   "cell_type": "markdown",
   "id": "2b5f6f63",
   "metadata": {
    "id": "2b5f6f63"
   },
   "source": [
    "### 4. \n",
    "\n",
    "b = open(\"assignment.txt\")\n",
    "\n",
    "Consider the code given above and write the answers to the following :\n",
    "\n",
    "- Identify the name of the file : \n",
    "- Identify the name of the function used above : \n",
    "- What is 'b' in above code :\n",
    "- The above statement will  ____________ file in ___________ mode."
   ]
  },
  {
   "cell_type": "markdown",
   "id": "bd49c975",
   "metadata": {},
   "source": [
    "## Identify the name of the file : \n",
    "- The name of the file is \"assignment.txt\". It is specified as a string  within the open() function call.\n",
    "\n",
    "## Identify the name of the function used above : \n",
    "\n",
    "- The function used in the above code is open(). The open() function is a built-in function in Python used to open files.\n",
    "\n",
    "## What is 'b' in above code :\n",
    "\n",
    "- In the given code, 'b' is a variable that represents the file object returned by the open() function. It is used to store the file object associated with the \"assignment.txt\" file.\n",
    "\n",
    "## The above statement will  ____________ file in ___________ mode.\n",
    "\n",
    "- The above statement will open the \"assignment.txt\" file in the default mode, which is read mode ('r'). Since the mode is not explicitly specified in the code, the open() function will assume the default mode and open the file in read mode."
   ]
  },
  {
   "cell_type": "markdown",
   "id": "6c9eb680",
   "metadata": {
    "id": "6c9eb680"
   },
   "source": [
    "### 5.\n",
    "\n",
    "Accept five hobbies from the user and write in a file 'hobby.txt'. Then Read the file to list out all the 5 hobbies from the user."
   ]
  },
  {
   "cell_type": "code",
   "execution_count": 15,
   "id": "1b9db22c",
   "metadata": {
    "id": "1b9db22c"
   },
   "outputs": [
    {
     "name": "stdout",
     "output_type": "stream",
     "text": [
      "Enter hobby 1: Reading\n",
      "Enter hobby 2: swiming\n",
      "Enter hobby 3: dancing\n",
      "Enter hobby 4: cricket\n",
      "Enter hobby 5: writing\n",
      "List of hobbies:\n",
      "Reading\n",
      "swiming\n",
      "dancing\n",
      "cricket\n",
      "writing\n"
     ]
    }
   ],
   "source": [
    "# Accept five hobbies from the user\n",
    "hobbies = []\n",
    "for i in range(5):\n",
    "    hobby = input(\"Enter hobby {}: \".format(i + 1))\n",
    "    hobbies.append(hobby)\n",
    "\n",
    "# Write hobbies to 'hobby.txt' file\n",
    "with open('hobby.txt', 'w') as file:\n",
    "    for hobby in hobbies:\n",
    "        file.write(hobby + '\\n')\n",
    "\n",
    "# Read 'hobby.txt' file and list out all the hobbies\n",
    "print(\"List of hobbies:\")\n",
    "with open('hobby.txt', 'r') as file:\n",
    "    for line in file:\n",
    "        hobby = line.strip()\n",
    "        print(hobby)\n"
   ]
  }
 ],
 "metadata": {
  "colab": {
   "provenance": []
  },
  "kernelspec": {
   "display_name": "Python 3 (ipykernel)",
   "language": "python",
   "name": "python3"
  },
  "language_info": {
   "codemirror_mode": {
    "name": "ipython",
    "version": 3
   },
   "file_extension": ".py",
   "mimetype": "text/x-python",
   "name": "python",
   "nbconvert_exporter": "python",
   "pygments_lexer": "ipython3",
   "version": "3.9.13"
  }
 },
 "nbformat": 4,
 "nbformat_minor": 5
}
