{
 "cells": [
  {
   "cell_type": "markdown",
   "id": "4f1596de",
   "metadata": {
    "id": "4f1596de"
   },
   "source": [
    "# Functions\n",
    "- Write solution of each question in the cell given below the corresponsing question.\n",
    "- Function taking input refers to input as a parameter / argument being passed."
   ]
  },
  {
   "cell_type": "markdown",
   "id": "6f0d9ac3",
   "metadata": {
    "id": "6f0d9ac3"
   },
   "source": [
    "#### 1. Create a function that takes a list of numbers as input and returns the median."
   ]
  },
  {
   "cell_type": "code",
   "execution_count": 1,
   "id": "0a090145",
   "metadata": {
    "id": "0a090145"
   },
   "outputs": [],
   "source": [
    "def find_median(numbers):\n",
    "    sorted_numbers = sorted(numbers)\n",
    "    n = len(sorted_numbers)\n",
    "    \n",
    "    if n % 2 == 0:\n",
    "        mid_right = n // 2\n",
    "        mid_left = mid_right - 1\n",
    "        median = (sorted_numbers[mid_left] + sorted_numbers[mid_right]) / 2\n",
    "    else:\n",
    "        mid = n // 2\n",
    "        median = sorted_numbers[mid]\n",
    "    \n",
    "    return median\n"
   ]
  },
  {
   "cell_type": "code",
   "execution_count": 86,
   "id": "zsPDITuiIhY7",
   "metadata": {
    "id": "zsPDITuiIhY7"
   },
   "outputs": [
    {
     "name": "stdout",
     "output_type": "stream",
     "text": [
      "Enter list of number with space seperator: 50 20 90 10 60\n",
      "Median of Given list is 50\n"
     ]
    }
   ],
   "source": [
    "median = find_median(list(map(int,input(\"Enter list of number with space seperator: \").split())))\n",
    "print(f\"Median of Given list is {median}\")\n"
   ]
  },
  {
   "cell_type": "markdown",
   "id": "18a107c4",
   "metadata": {
    "id": "18a107c4"
   },
   "source": [
    "#### 2. Create a function that takes a list of numbers as input and returns the mean."
   ]
  },
  {
   "cell_type": "code",
   "execution_count": 78,
   "id": "Vy8v3p_hIgsc",
   "metadata": {
    "id": "Vy8v3p_hIgsc"
   },
   "outputs": [],
   "source": [
    "def find_mean(numbers):\n",
    "    total = sum(numbers)\n",
    "    mean = total / len(numbers)\n",
    "    return mean\n"
   ]
  },
  {
   "cell_type": "code",
   "execution_count": 83,
   "id": "9533b14a",
   "metadata": {
    "id": "9533b14a"
   },
   "outputs": [
    {
     "name": "stdout",
     "output_type": "stream",
     "text": [
      "Enter list of number with space seperator: 50 20 90 10 60\n",
      "Mean of given list is 46.0\n"
     ]
    }
   ],
   "source": [
    "mean = find_mean(list(map(int,input(\"Enter list of number with space seperator: \").split())))\n",
    "print(f\"Mean of given list is {mean}\")\n"
   ]
  },
  {
   "cell_type": "markdown",
   "id": "34df49cf",
   "metadata": {
    "id": "34df49cf"
   },
   "source": [
    "#### 3. Create a function that takes a list of numbers as input and returns the standard deviation."
   ]
  },
  {
   "cell_type": "code",
   "execution_count": 32,
   "id": "5a089785",
   "metadata": {
    "id": "5a089785"
   },
   "outputs": [],
   "source": [
    "import math\n",
    "\n",
    "def find_standard_deviation(numbers):\n",
    "    n = len(numbers)\n",
    "    mean = sum(numbers) / n\n",
    "    squared_diff_sum = sum((x - mean) ** 2 for x in numbers)\n",
    "    variance = squared_diff_sum / n\n",
    "    standard_deviation = math.sqrt(variance)\n",
    "    return standard_deviation\n"
   ]
  },
  {
   "cell_type": "code",
   "execution_count": 85,
   "id": "7QrYx5jiLON6",
   "metadata": {
    "id": "7QrYx5jiLON6"
   },
   "outputs": [
    {
     "name": "stdout",
     "output_type": "stream",
     "text": [
      "Enter list of number with space seperator: 50 20 90 10 60\n",
      "Stadnard devation of given list is 28.705400188814647\n"
     ]
    }
   ],
   "source": [
    "standard_deviation = find_standard_deviation(list(map(int,input(\"Enter list of number with space seperator: \").split())))\n",
    "print(f\"Stadnard devation of given list is {standard_deviation}\")\n"
   ]
  },
  {
   "cell_type": "markdown",
   "id": "9cc39352",
   "metadata": {
    "id": "9cc39352"
   },
   "source": [
    "#### 4. Create a function that takes a number as input and return True if the number is prime , False if not."
   ]
  },
  {
   "cell_type": "code",
   "execution_count": 34,
   "id": "722fc2fa",
   "metadata": {
    "id": "722fc2fa"
   },
   "outputs": [],
   "source": [
    "# creating funcation to check given number are prime or not\n",
    "def is_prime(num):\n",
    "    \"\"\"\n",
    "    Checks if a given number is prime.\n",
    "\n",
    "    Parameters:\n",
    "    num (int): The number to check for primality.\n",
    "\n",
    "    Returns:\n",
    "    bool: True if 'num' is prime, False otherwise.\n",
    "    \"\"\"\n",
    "\n",
    "    if num < 2:\n",
    "        return False\n",
    "    \n",
    "    # Iterate from 2 to the square root of 'num' (inclusive)\n",
    "    for i in range(2, int(num**0.5) + 1):\n",
    "        if num % i == 0:\n",
    "            # 'num' is divisible by 'i', hence not prime\n",
    "            return False\n",
    "    \n",
    "    # 'num' is not divisible by any number from 2 to sqrt(num), so it is prime\n",
    "    return True"
   ]
  },
  {
   "cell_type": "code",
   "execution_count": 44,
   "id": "f0caa467",
   "metadata": {},
   "outputs": [
    {
     "name": "stdout",
     "output_type": "stream",
     "text": [
      "Enter a Number:17\n",
      "True\n"
     ]
    }
   ],
   "source": [
    "print(is_prime(int(input(\"Enter a Number:\"))))\n"
   ]
  },
  {
   "cell_type": "markdown",
   "id": "4029f3a8",
   "metadata": {
    "id": "4029f3a8"
   },
   "source": [
    "#### 5. Create a function that takes a list of numbers as input and returns the variance."
   ]
  },
  {
   "cell_type": "code",
   "execution_count": 46,
   "id": "83d19248",
   "metadata": {
    "id": "83d19248"
   },
   "outputs": [],
   "source": [
    "def find_variance(numbers):\n",
    "    n = len(numbers)\n",
    "    mean = sum(numbers) / n\n",
    "    squared_diff_sum = sum((x - mean) ** 2 for x in numbers)\n",
    "    variance = squared_diff_sum / n\n",
    "    return variance\n"
   ]
  },
  {
   "cell_type": "code",
   "execution_count": 93,
   "id": "19f09f86",
   "metadata": {},
   "outputs": [
    {
     "name": "stdout",
     "output_type": "stream",
     "text": [
      "Enter list of number with space seperator: 50 20 90 10 60\n",
      "Variance of [50, 20, 90, 10, 60] is 824.0\n"
     ]
    }
   ],
   "source": [
    "numbers = list(map(int,input(\"Enter list of number with space seperator: \").split()))\n",
    "print(f\"Variance of {numbers} is {find_variance(numbers)}\")"
   ]
  },
  {
   "cell_type": "markdown",
   "id": "7acad1bf",
   "metadata": {
    "id": "7acad1bf"
   },
   "source": [
    "#### 6. Create a function that takes a number as input and returns the factorial."
   ]
  },
  {
   "cell_type": "code",
   "execution_count": 51,
   "id": "f7c0877a",
   "metadata": {
    "id": "f7c0877a"
   },
   "outputs": [],
   "source": [
    "def factorial(number):\n",
    "    if number < 0:\n",
    "        raise ValueError(\"Factorial is undefined for negative numbers.\")\n",
    "    elif number == 0:\n",
    "        return 1\n",
    "    else:\n",
    "        result = 1\n",
    "        for i in range(1, number + 1):\n",
    "            result *= i\n",
    "        return result\n"
   ]
  },
  {
   "cell_type": "code",
   "execution_count": 53,
   "id": "f5d8a45d",
   "metadata": {},
   "outputs": [
    {
     "name": "stdout",
     "output_type": "stream",
     "text": [
      "Enter a Number:5\n",
      "Factorial of Given number is 120\n"
     ]
    }
   ],
   "source": [
    "factorial_value = factorial(int(input(\"Enter a Number:\")))\n",
    "print(f\"Factorial of Given number is {factorial_value}\")\n"
   ]
  },
  {
   "cell_type": "markdown",
   "id": "b1e46b1f",
   "metadata": {
    "id": "b1e46b1f"
   },
   "source": [
    "#### 7. Create a function that takes two lists of same length as input and returns a list consisting of larger element at each position after comparing the corresponding elements in the given lists."
   ]
  },
  {
   "cell_type": "code",
   "execution_count": 98,
   "id": "bc428d22",
   "metadata": {
    "id": "bc428d22"
   },
   "outputs": [],
   "source": [
    "def compare_lists(list1, list2):\n",
    "    if len(list1) != len(list2):\n",
    "        raise ValueError(\"Input lists must have the same length.\")\n",
    "\n",
    "    result = []\n",
    "    for i in range(len(list1)):\n",
    "        if list1[i] > list2[i]:\n",
    "            result.append(list1[i])\n",
    "        else:\n",
    "            result.append(list2[i])\n",
    "\n",
    "    return result\n"
   ]
  },
  {
   "cell_type": "code",
   "execution_count": 99,
   "id": "68c06aac",
   "metadata": {},
   "outputs": [
    {
     "name": "stdout",
     "output_type": "stream",
     "text": [
      "Enter list1 of number with space seperator: 10 20 30 40 50\n",
      "Enter list2 of number with space seperator: 15 2 50 55 8\n",
      "Result from both list is [15, 20, 50, 55, 50]\n"
     ]
    }
   ],
   "source": [
    "list1 = list(map(int,input(\"Enter list1 of number with space seperator: \").split()))\n",
    "list2 = list(map(int,input(\"Enter list2 of number with space seperator: \").split()))\n",
    "result = compare_lists(list1, list2)\n",
    "print(f\"Result from both list is {result}\")\n"
   ]
  },
  {
   "cell_type": "markdown",
   "id": "f397889f",
   "metadata": {
    "id": "f397889f"
   },
   "source": [
    "#### 8. Create a function that takes a string and returns a string after joining the words that are having even lengths."
   ]
  },
  {
   "cell_type": "code",
   "execution_count": 101,
   "id": "ebf96e1c",
   "metadata": {
    "id": "ebf96e1c"
   },
   "outputs": [],
   "source": [
    "def join_even_length_words(input_string):\n",
    "    words = input_string.split()\n",
    "    even_length_words = [word for word in words if len(word) % 2 == 0]\n",
    "    result = ' '.join(even_length_words)\n",
    "    return result\n"
   ]
  },
  {
   "cell_type": "code",
   "execution_count": 104,
   "id": "fbe5131c",
   "metadata": {},
   "outputs": [
    {
     "name": "stdout",
     "output_type": "stream",
     "text": [
      "Enter a String : Create a funcreturns a string after joining the words that are having even lengths\n",
      "Result is : Create string that having even\n"
     ]
    }
   ],
   "source": [
    "result = join_even_length_words(input(\"Enter a String : \"))\n",
    "print(f\"Result is : {result}\")\n"
   ]
  },
  {
   "cell_type": "markdown",
   "id": "36c6aae1",
   "metadata": {
    "id": "36c6aae1"
   },
   "source": [
    "#### 9. Create a function that takes a string and a character as input and returns a list after splitting the string based on the given character. By Default split based on whitespace. (Create a function similar to the inbuilt split function without using it)."
   ]
  },
  {
   "cell_type": "code",
   "execution_count": 106,
   "id": "869d7244",
   "metadata": {
    "id": "869d7244"
   },
   "outputs": [],
   "source": [
    "def custom_split(input_string, split_char=None):\n",
    "    if split_char is None:\n",
    "        split_char = ' '\n",
    "\n",
    "    result = []\n",
    "    current_word = ''\n",
    "    for char in input_string:\n",
    "        if char == split_char:\n",
    "            if current_word:\n",
    "                result.append(current_word)\n",
    "                current_word = ''\n",
    "        else:\n",
    "            current_word += char\n",
    "\n",
    "    if current_word:\n",
    "        result.append(current_word)\n",
    "\n",
    "    return result"
   ]
  },
  {
   "cell_type": "code",
   "execution_count": 108,
   "id": "3a6f1ecd",
   "metadata": {},
   "outputs": [
    {
     "name": "stdout",
     "output_type": "stream",
     "text": [
      "Enter a String : The function returns the largest element in the given list\n",
      "Result is : ['The', 'function', 'returns', 'the', 'largest', 'element', 'in', 'the', 'given', 'list']\n"
     ]
    }
   ],
   "source": [
    "result = custom_split(input(\"Enter a String : \"))\n",
    "print(f\"Result is : {result}\")\n"
   ]
  },
  {
   "cell_type": "markdown",
   "id": "b8c01afd",
   "metadata": {
    "id": "b8c01afd"
   },
   "source": [
    "#### 10. Create a function which takes a 2-D list of shape m * n where m is number of elements in the original list and where each element is a list having n integers (A list of m lists having n numbers each, a matrix). The function returns the largest element in the given list."
   ]
  },
  {
   "cell_type": "code",
   "execution_count": 111,
   "id": "adda1366",
   "metadata": {
    "id": "adda1366"
   },
   "outputs": [],
   "source": [
    "def find_largest_element(matrix):\n",
    "    largest_element = 0\n",
    "    for row in matrix:\n",
    "        for num in row:\n",
    "            if num > largest_element:\n",
    "                largest_element = num\n",
    "    return largest_element\n"
   ]
  },
  {
   "cell_type": "code",
   "execution_count": 115,
   "id": "ec0607b5",
   "metadata": {},
   "outputs": [
    {
     "name": "stdout",
     "output_type": "stream",
     "text": [
      "Largest element in given list is 80\n"
     ]
    }
   ],
   "source": [
    "List_2D = [[10, 20, 30], [40, 50, 60], [60, 80, 20]]\n",
    "largest = find_largest_element(List_2D)\n",
    "print(f\"Largest element in given list is {largest}\")\n"
   ]
  },
  {
   "cell_type": "markdown",
   "id": "d2a2a668",
   "metadata": {
    "id": "d2a2a668"
   },
   "source": [
    "#### 11. Create a function which takes a 2-D list of shape m * n where m is number of elements in the original list and where each element is a list having n integers (A list of m lists having n numbers each). The function also takes a number x as input and returns True is x is in the given 2D list."
   ]
  },
  {
   "cell_type": "code",
   "execution_count": 117,
   "id": "585d5e4b",
   "metadata": {
    "id": "585d5e4b"
   },
   "outputs": [],
   "source": [
    "def is_number_in_2D_list(lst, x):\n",
    "    for sublist in lst:\n",
    "        if x in sublist:\n",
    "            return True\n",
    "    return False\n"
   ]
  },
  {
   "cell_type": "code",
   "execution_count": 118,
   "id": "7f8cebee",
   "metadata": {},
   "outputs": [
    {
     "name": "stdout",
     "output_type": "stream",
     "text": [
      "True\n"
     ]
    }
   ],
   "source": [
    "my_list = [[1, 2, 3], [4, 5, 6], [7, 8, 9]]\n",
    "number = 5\n",
    "result = is_number_in_2D_list(my_list, number)\n",
    "print(result) \n"
   ]
  },
  {
   "cell_type": "markdown",
   "id": "0d889f51",
   "metadata": {
    "id": "0d889f51"
   },
   "source": [
    "#### 12. Create a function which takes a 2-D list of shape m * n where m is number of elements in the original list and where each element is a list having n integers (A list of m lists having n numbers each). The function returns the sum of all rows in the matrix (2 D list)."
   ]
  },
  {
   "cell_type": "code",
   "execution_count": 119,
   "id": "56d82617",
   "metadata": {
    "id": "56d82617"
   },
   "outputs": [],
   "source": [
    "def sum_of_rows(matrix):\n",
    "    row_sums = []\n",
    "    for row in matrix:\n",
    "        row_sum = sum(row)\n",
    "        row_sums.append(row_sum)\n",
    "    return row_sums\n"
   ]
  },
  {
   "cell_type": "code",
   "execution_count": 120,
   "id": "60006a38",
   "metadata": {},
   "outputs": [
    {
     "name": "stdout",
     "output_type": "stream",
     "text": [
      "[6, 15, 24]\n"
     ]
    }
   ],
   "source": [
    "my_list = [[1, 2, 3], [4, 5, 6], [7, 8, 9]]\n",
    "result = sum_of_rows(my_list)\n",
    "print(result) "
   ]
  },
  {
   "cell_type": "markdown",
   "id": "f89438e1",
   "metadata": {
    "id": "f89438e1"
   },
   "source": [
    "#### 13. Create a function which takes a 2-D list of shape m * n where m is number of elements in the original list and where each element is a list having n integers (A list of m lists having n numbers each). The function also a takes a number x as input and returns a list of all consecutive pairs having sum eaqqual to x."
   ]
  },
  {
   "cell_type": "code",
   "execution_count": 122,
   "id": "c857dfcd",
   "metadata": {
    "id": "c857dfcd"
   },
   "outputs": [],
   "source": [
    "def find_consecutive_pairs(matrix, x):\n",
    "    pairs = []\n",
    "    for row in matrix:\n",
    "        for i in range(len(row) - 1):\n",
    "            if row[i] + row[i+1] == x:\n",
    "                pairs.append([row[i], row[i+1]])\n",
    "    return pairs\n"
   ]
  },
  {
   "cell_type": "code",
   "execution_count": 124,
   "id": "838918c9",
   "metadata": {},
   "outputs": [
    {
     "name": "stdout",
     "output_type": "stream",
     "text": [
      "[[7, 8]]\n"
     ]
    }
   ],
   "source": [
    "my_list = [[1, 2, 3], [4, 5, 6], [7, 8, 9]]\n",
    "number = 15\n",
    "result = find_consecutive_pairs(my_list, number)\n",
    "print(result) \n"
   ]
  },
  {
   "cell_type": "markdown",
   "id": "976248d9",
   "metadata": {
    "id": "976248d9"
   },
   "source": [
    "#### 14. Create a function that takes a list and a number as input and returns True ifthe number is present in the list otherwise false using Binary search algorithm. (Read about Binary Search)."
   ]
  },
  {
   "cell_type": "code",
   "execution_count": 125,
   "id": "ef73c7cb",
   "metadata": {
    "id": "ef73c7cb"
   },
   "outputs": [],
   "source": [
    "def binary_search(arr, target):\n",
    "    left = 0\n",
    "    right = len(arr) - 1\n",
    "\n",
    "    while left <= right:\n",
    "        mid = (left + right) // 2\n",
    "\n",
    "        if arr[mid] == target:\n",
    "            return True\n",
    "        elif arr[mid] < target:\n",
    "            left = mid + 1\n",
    "        else:\n",
    "            right = mid - 1\n",
    "\n",
    "    return False\n"
   ]
  },
  {
   "cell_type": "code",
   "execution_count": 127,
   "id": "b227d3b3",
   "metadata": {},
   "outputs": [
    {
     "name": "stdout",
     "output_type": "stream",
     "text": [
      "True\n"
     ]
    }
   ],
   "source": [
    "my_list = [1,2,3,4,5,6,7,8,9]\n",
    "number = 5\n",
    "result = binary_search(my_list, number)\n",
    "print(result) \n"
   ]
  },
  {
   "cell_type": "markdown",
   "id": "f12cc8c9",
   "metadata": {
    "id": "f12cc8c9"
   },
   "source": [
    "#### 15. Create a function which takes a txt filename as input and returns the number of words in that file."
   ]
  },
  {
   "cell_type": "code",
   "execution_count": 131,
   "id": "46492494",
   "metadata": {
    "id": "46492494"
   },
   "outputs": [],
   "source": [
    "def count_words_in_file(filename):\n",
    "    try:\n",
    "        with open(filename, 'r') as file:\n",
    "            content = file.read()\n",
    "            words = content.split()\n",
    "            return len(words)\n",
    "    except FileNotFoundError:\n",
    "        print(\"File not found.\")\n",
    "    except IOError:\n",
    "        print(\"Error reading the file.\")\n",
    "\n",
    "    return 0\n"
   ]
  },
  {
   "cell_type": "code",
   "execution_count": 136,
   "id": "c01971a1",
   "metadata": {},
   "outputs": [
    {
     "name": "stdout",
     "output_type": "stream",
     "text": [
      "The file 'example.txt' contains 23 words.\n"
     ]
    }
   ],
   "source": [
    "filename = \"example.txt\"\n",
    "word_count = count_words_in_file(filename)\n",
    "print(f\"The file '{filename}' contains {word_count} words.\")\n"
   ]
  },
  {
   "cell_type": "markdown",
   "id": "b2666c95",
   "metadata": {
    "id": "b2666c95"
   },
   "source": [
    "#### 16. Create a function which takes a txt filename as input and returns the number of line in the file."
   ]
  },
  {
   "cell_type": "code",
   "execution_count": 137,
   "id": "5ff27d42",
   "metadata": {
    "id": "5ff27d42"
   },
   "outputs": [],
   "source": [
    "def count_lines_in_file(filename):\n",
    "    try:\n",
    "        with open(filename, 'r') as file:\n",
    "            lines = file.readlines()\n",
    "            return len(lines)\n",
    "    except FileNotFoundError:\n",
    "        print(f\"File '{filename}' not found.\")\n",
    "    except IOError:\n",
    "        print(f\"Error reading the file '{filename}'.\")\n",
    "\n",
    "    return 0\n"
   ]
  },
  {
   "cell_type": "code",
   "execution_count": 138,
   "id": "66e8d726",
   "metadata": {},
   "outputs": [
    {
     "name": "stdout",
     "output_type": "stream",
     "text": [
      "The file 'hills.txt' contains 36 lines.\n"
     ]
    }
   ],
   "source": [
    "filename = \"hills.txt\"\n",
    "lines_count = count_lines_in_file(filename)\n",
    "print(f\"The file '{filename}' contains {lines_count} lines.\")"
   ]
  },
  {
   "cell_type": "markdown",
   "id": "6722fb75",
   "metadata": {
    "id": "6722fb75"
   },
   "source": [
    "#### 17. Create a function that takes two txt filenames and returns a file after merging the cintents of two given files. (Print the merged content and then return the filename, content of original files should be unchanged)."
   ]
  },
  {
   "cell_type": "code",
   "execution_count": 139,
   "id": "86a4b436",
   "metadata": {
    "id": "86a4b436"
   },
   "outputs": [],
   "source": [
    "def merge_files(file1, file2):\n",
    "    try:\n",
    "        with open(file1, 'r') as f1, open(file2, 'r') as f2:\n",
    "            content1 = f1.read()\n",
    "            content2 = f2.read()\n",
    "            merged_content = content1 + content2\n",
    "\n",
    "        print(\"Merged content:\")\n",
    "        print(merged_content)\n",
    "\n",
    "        merged_filename = \"merged.txt\"\n",
    "        with open(merged_filename, 'w') as merged_file:\n",
    "            merged_file.write(merged_content)\n",
    "\n",
    "        return merged_filename\n",
    "    except FileNotFoundError:\n",
    "        print(\"File not found.\")\n",
    "    except IOError:\n",
    "        print(\"Error reading the file.\")\n",
    "\n",
    "    return None\n"
   ]
  },
  {
   "cell_type": "code",
   "execution_count": 140,
   "id": "3df6770a",
   "metadata": {},
   "outputs": [
    {
     "name": "stdout",
     "output_type": "stream",
     "text": [
      "Merged content:\n",
      "Go back through the script and type a comment above each line explaining in English what it does.Copied code, if found, will result in 0 marks for that question. To avoid this make as much comments in the code to explain the approach\n",
      "Merged file saved as 'merged.txt'.\n"
     ]
    }
   ],
   "source": [
    "file1 = \"sample1.txt\"\n",
    "file2 = \"sample2.txt\"\n",
    "\n",
    "merged_filename = merge_files(file1, file2)\n",
    "if merged_filename:\n",
    "    print(f\"Merged file saved as '{merged_filename}'.\")\n"
   ]
  },
  {
   "cell_type": "markdown",
   "id": "faf26668",
   "metadata": {
    "id": "faf26668"
   },
   "source": [
    "#### 18. Write a program that takes a string as input and returns a list of all words having even length in that string (Using Map/Filter and Lambda expression)."
   ]
  },
  {
   "cell_type": "code",
   "execution_count": 141,
   "id": "955cd692",
   "metadata": {
    "id": "955cd692"
   },
   "outputs": [
    {
     "name": "stdout",
     "output_type": "stream",
     "text": [
      "['This', 'is', 'sample', 'string', 'with', 'of']\n"
     ]
    }
   ],
   "source": [
    "def get_even_length_words(string):\n",
    "    words = string.split()\n",
    "    even_length_words = list(filter(lambda word: len(word) % 2 == 0, words))\n",
    "    return even_length_words\n",
    "\n",
    "# Example usage:\n",
    "input_string = \"This is a sample string with words of various lengths\"\n",
    "result = get_even_length_words(input_string)\n",
    "print(result)\n"
   ]
  },
  {
   "cell_type": "code",
   "execution_count": null,
   "id": "abbd78be",
   "metadata": {},
   "outputs": [],
   "source": []
  }
 ],
 "metadata": {
  "colab": {
   "provenance": []
  },
  "kernelspec": {
   "display_name": "Python 3 (ipykernel)",
   "language": "python",
   "name": "python3"
  },
  "language_info": {
   "codemirror_mode": {
    "name": "ipython",
    "version": 3
   },
   "file_extension": ".py",
   "mimetype": "text/x-python",
   "name": "python",
   "nbconvert_exporter": "python",
   "pygments_lexer": "ipython3",
   "version": "3.9.13"
  }
 },
 "nbformat": 4,
 "nbformat_minor": 5
}
