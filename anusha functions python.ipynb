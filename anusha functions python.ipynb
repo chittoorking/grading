{
 "cells": [
  {
   "cell_type": "markdown",
   "id": "d72f8ceb",
   "metadata": {
    "id": "d72f8ceb"
   },
   "source": [
    "# Assessment - 5 Gradable\n",
    "\n",
    "- Each question carries 5 or 4 marks\n",
    "- Marks will be assigned in terms of:\n",
    "    \n",
    "    **1. Expected output**\n",
    "    \n",
    "    **2. Quality and Explainability of code**\n",
    "\n",
    "    ***Go back through the script and type a comment above each line explaining in English what it does.***\n",
    "\n",
    "    **3. Copied code, if found, will result in 0 marks for that question. To avoid this make as much comments in the code to explain the approach**"
   ]
  },
  {
   "cell_type": "markdown",
   "id": "e5819cc0",
   "metadata": {
    "id": "e5819cc0"
   },
   "source": [
    "### 1. \n",
    "\n",
    "Create a function ``lets_find_88`` Given a list of ints, return True if the array contains a 8 next to a 8 somewhere.\n",
    "- lets_find_88([1, 8, 8]) → True\n",
    "- lets_find_88([1, 8, 1, 8]) → False\n",
    "- lets_find_88([8, 1, 8]) → False"
   ]
  },
  {
   "cell_type": "code",
   "execution_count": 2,
   "id": "88e3b5b4",
   "metadata": {
    "id": "88e3b5b4"
   },
   "outputs": [
    {
     "name": "stdout",
     "output_type": "stream",
     "text": [
      "True\n"
     ]
    }
   ],
   "source": [
    "Python function that takes a list of integers as input and returns True if the list contains an 8 next to another 8:\n",
    "\n",
    "    def lets_find_88(nums):\n",
    "    for i in range(len(nums)-1):\n",
    "        if nums[i] == 8 and nums[i+1] == 8:\n",
    "            return True\n",
    "    return False\n",
    "nums = [1, 8, 8]\n",
    "function by passing a list of integers as an argument\n",
    "print(lets_find_88(nums))"
   ]
  },
  {
   "cell_type": "markdown",
   "id": "6b3f11fd",
   "metadata": {
    "id": "6b3f11fd"
   },
   "source": [
    "### 2. \n",
    "\n",
    "ANIMAL CRACKERS: Write a function takes a two-word string and returns True if both words begin with same letter and returns False if both words begin with different letter\n",
    "- animal_crackers('Levelheaded Lion') --> True\n",
    "- animal_crackers('Cute Kangaroo') --> False"
   ]
  },
  {
   "cell_type": "code",
   "execution_count": 4,
   "id": "15e45ae3",
   "metadata": {
    "id": "15e45ae3"
   },
   "outputs": [
    {
     "name": "stdout",
     "output_type": "stream",
     "text": [
      "True\n"
     ]
    }
   ],
   "source": [
    " Python function that takes a two-word string as input and returns True if both words begin with the same letter, and False\n",
    "    def animal_crackers(text):\n",
    "    words = text.split()\n",
    "    return words[0][0].lower() == words[1][0].lower()\n",
    "text = 'Levelheaded Lion'\n",
    "function by passing a two-word string as an argument\n",
    "print(animal_crackers(text))"
   ]
  },
  {
   "cell_type": "markdown",
   "id": "42453e7d",
   "metadata": {
    "id": "42453e7d"
   },
   "source": [
    "### 3. \n",
    "\n",
    "Write a function ``how_many_primes`` that returns the number of prime numbers that exist up to and including a given number\n",
    "\n",
    "- how_many_primes(100) --> 25"
   ]
  },
  {
   "cell_type": "code",
   "execution_count": 5,
   "id": "b3302ec4",
   "metadata": {
    "id": "b3302ec4"
   },
   "outputs": [
    {
     "name": "stdout",
     "output_type": "stream",
     "text": [
      "25\n"
     ]
    }
   ],
   "source": [
    "Python function that takes an integer as input and returns the number of prime numbers that exist up to and including that number\n",
    "def how_many_primes(n):\n",
    "    primes = []\n",
    "    for num in range(2, n+1):\n",
    "        for i in range(2, num):\n",
    "            if num % i == 0:\n",
    "                break\n",
    "        else:\n",
    "            primes.append(num)\n",
    "    return len(primes)\n",
    "function by passing an integer as an argument\n",
    "n = 100\n",
    "print(how_many_primes(n))"
   ]
  },
  {
   "cell_type": "markdown",
   "id": "2b5f6f63",
   "metadata": {
    "id": "2b5f6f63"
   },
   "source": [
    "### 4. \n",
    "\n",
    "b = open(\"assignment.txt\")\n",
    "\n",
    "Consider the code given above and write the answers to the following :\n",
    "\n",
    "- Identify the name of the file : assignment.txt\n",
    "- Identify the name of the function used above : No function is used\n",
    "- What is 'b' in above code : b is a file object created by opening a file \n",
    "- The above statement will  ___open_________ file in ____read_______ mode."
   ]
  },
  {
   "cell_type": "markdown",
   "id": "6c9eb680",
   "metadata": {
    "id": "6c9eb680"
   },
   "source": [
    "### 5.\n",
    "\n",
    "Accept five hobbies from the user and write in a file 'hobby.txt'. Then Read the file to list out all the 5 hobbies from the user."
   ]
  },
  {
   "cell_type": "code",
   "execution_count": 6,
   "id": "1b9db22c",
   "metadata": {
    "id": "1b9db22c"
   },
   "outputs": [
    {
     "name": "stdout",
     "output_type": "stream",
     "text": [
      "Enter hobby 1: reading\n",
      "Enter hobby 2: writing\n",
      "Enter hobby 3: swimming\n",
      "Enter hobby 4: eating\n",
      "Enter hobby 5: playing\n",
      "Your hobbies are:\n",
      "reading\n",
      "writing\n",
      "swimming\n",
      "eating\n",
      "playing\n"
     ]
    }
   ],
   "source": [
    "# Accept five hobbies from the user\n",
    "hobbies = []\n",
    "for i in range(5):\n",
    "    hobby = input(\"Enter hobby {}: \".format(i+1))\n",
    "    hobbies.append(hobby)\n",
    "\n",
    "# Write hobbies to file\n",
    "with open('hobby.txt', 'w') as f:\n",
    "    for hobby in hobbies:\n",
    "        f.write(hobby + '\\n')\n",
    "\n",
    "# Read hobbies from file\n",
    "with open('hobby.txt', 'r') as f:\n",
    "    hobbies = f.readlines()\n",
    "\n",
    "# List out all the hobbies\n",
    "print(\"Your hobbies are:\")\n",
    "for hobby in hobbies:\n",
    "    print(hobby.strip())\n"
   ]
  },
  {
   "cell_type": "code",
   "execution_count": null,
   "id": "3aeb1eda",
   "metadata": {},
   "outputs": [],
   "source": []
  }
 ],
 "metadata": {
  "colab": {
   "provenance": []
  },
  "kernelspec": {
   "display_name": "Python 3 (ipykernel)",
   "language": "python",
   "name": "python3"
  },
  "language_info": {
   "codemirror_mode": {
    "name": "ipython",
    "version": 3
   },
   "file_extension": ".py",
   "mimetype": "text/x-python",
   "name": "python",
   "nbconvert_exporter": "python",
   "pygments_lexer": "ipython3",
   "version": "3.10.9"
  }
 },
 "nbformat": 4,
 "nbformat_minor": 5
}
